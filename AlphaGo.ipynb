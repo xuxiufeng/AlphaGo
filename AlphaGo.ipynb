{
  "nbformat": 4,
  "nbformat_minor": 0,
  "metadata": {
    "colab": {
      "name": "AlphaGo.ipynb",
      "provenance": [],
      "authorship_tag": "ABX9TyMMypCnkK+ufq2s37ewqSgN",
      "include_colab_link": true
    },
    "kernelspec": {
      "name": "python3",
      "display_name": "Python 3"
    },
    "language_info": {
      "name": "python"
    }
  },
  "cells": [
    {
      "cell_type": "markdown",
      "metadata": {
        "id": "view-in-github",
        "colab_type": "text"
      },
      "source": [
        "<a href=\"https://colab.research.google.com/github/xuxiufeng/AlphaGo/blob/main/AlphaGo.ipynb\" target=\"_parent\"><img src=\"https://colab.research.google.com/assets/colab-badge.svg\" alt=\"Open In Colab\"/></a>"
      ]
    },
    {
      "cell_type": "code",
      "execution_count": 2,
      "metadata": {
        "id": "xI8Kl_WcUfxD"
      },
      "outputs": [],
      "source": [
        "from keras.models import Sequential\n",
        "from keras.layers.core import Dense, Flatten\n",
        "from keras.layers.convolutional import Conv2D"
      ]
    },
    {
      "cell_type": "code",
      "source": [
        "def alphago_model(input_shape, is_policy_net=False, num_filters=192, first_kernel_size=5, other_kernel_size=3): \n",
        "  model = Sequential() \n",
        "  model.add(Conv2D(num_filters, first_kernel_size, input_shape=input_shape, padding='same',data_format='channels_first', activation='relu'))\n",
        "  for i in range(2, 12): \n",
        "    model.add(Conv2D(num_filters, other_kernel_size, padding='same', data_format='channels_first', activation='relu'))\n",
        "  if is_policy_net: \n",
        "    model.add(Conv2D(filters=1, kernel_size=1, padding='same', data_format='channels_first', activation='softmax'))\n",
        "    model.add(Flatten()) \n",
        "    return model\n",
        "  else:\n",
        "    model.add(Conv2D(num_filters, other_kernel_size, padding='same', data_format='channels_first', activation='relu'))\n",
        "    model.add( Conv2D(filters=1, kernel_size=1, padding='same', data_format='channels_first', activation='relu'))\n",
        "    model.add(Flatten()) \n",
        "    model.add(Dense(256, activation='relu')) \n",
        "    model.add(Dense(1, activation='tanh')) \n",
        "    return model"
      ],
      "metadata": {
        "id": "fdHIyZQ7Uy-F"
      },
      "execution_count": 10,
      "outputs": []
    },
    {
      "cell_type": "code",
      "source": [
        "\n",
        "is_policy_net"
      ],
      "metadata": {
        "colab": {
          "base_uri": "https://localhost:8080/",
          "height": 184
        },
        "id": "G_GBS8auUtP3",
        "outputId": "f9f6d712-b5c0-4690-e1b7-542f3c59e81d"
      },
      "execution_count": 11,
      "outputs": [
        {
          "output_type": "error",
          "ename": "NameError",
          "evalue": "ignored",
          "traceback": [
            "\u001b[0;31m---------------------------------------------------------------------------\u001b[0m",
            "\u001b[0;31mNameError\u001b[0m                                 Traceback (most recent call last)",
            "\u001b[0;32m<ipython-input-11-da4240edf0a6>\u001b[0m in \u001b[0;36m<module>\u001b[0;34m()\u001b[0m\n\u001b[1;32m      1\u001b[0m \u001b[0;34m\u001b[0m\u001b[0m\n\u001b[0;32m----> 2\u001b[0;31m \u001b[0mis_policy_net\u001b[0m\u001b[0;34m\u001b[0m\u001b[0;34m\u001b[0m\u001b[0m\n\u001b[0m",
            "\u001b[0;31mNameError\u001b[0m: name 'is_policy_net' is not defined"
          ]
        }
      ]
    },
    {
      "cell_type": "code",
      "source": [
        ""
      ],
      "metadata": {
        "id": "fFw4yN_QUtYt"
      },
      "execution_count": null,
      "outputs": []
    },
    {
      "cell_type": "code",
      "source": [
        ""
      ],
      "metadata": {
        "id": "V2P7cwe_Utgg"
      },
      "execution_count": null,
      "outputs": []
    }
  ]
}